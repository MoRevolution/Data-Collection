{
 "cells": [
  {
   "cell_type": "code",
   "execution_count": 43,
   "metadata": {},
   "outputs": [],
   "source": [
    "import pandas as pd \n",
    "import pathlib\n",
    "import os\n",
    "from docx import Document\n",
    "from docx.text.parfmt import ParagraphFormat \n",
    "from docx.shared import Inches, RGBColor\n",
    "\n",
    "NUMBER_OF_PEOPLE = 5"
   ]
  },
  {
   "cell_type": "code",
   "execution_count": 73,
   "metadata": {},
   "outputs": [],
   "source": [
    "### Source: https://github.com/python-openxml/python-docx/issues/74#issuecomment-261169410\n",
    "\n",
    "import docx\n",
    "def add_hyperlink(paragraph, url, text, color, underline):\n",
    "    \"\"\"\n",
    "    A function that places a hyperlink within a paragraph object.\n",
    "\n",
    "    :param paragraph: The paragraph we are adding the hyperlink to.\n",
    "    :param url: A string containing the required url\n",
    "    :param text: The text displayed for the url\n",
    "    :return: The hyperlink object\n",
    "    \"\"\"\n",
    "\n",
    "    # This gets access to the document.xml.rels file and gets a new relation id value\n",
    "    part = paragraph.part\n",
    "    r_id = part.relate_to(url, docx.opc.constants.RELATIONSHIP_TYPE.HYPERLINK, is_external=True)\n",
    "\n",
    "    # Create the w:hyperlink tag and add needed values\n",
    "    hyperlink = docx.oxml.shared.OxmlElement('w:hyperlink')\n",
    "    hyperlink.set(docx.oxml.shared.qn('r:id'), r_id, )\n",
    "\n",
    "    # Create a w:r element\n",
    "    new_run = docx.oxml.shared.OxmlElement('w:r')\n",
    "\n",
    "    # Create a new w:rPr element\n",
    "    rPr = docx.oxml.shared.OxmlElement('w:rPr')\n",
    "\n",
    "    # Add color if it is given\n",
    "    if not color is None:\n",
    "      c = docx.oxml.shared.OxmlElement('w:color')\n",
    "      c.set(docx.oxml.shared.qn('w:val'), color)\n",
    "      rPr.append(c)\n",
    "\n",
    "    # Remove underlining if it is requested\n",
    "    if not underline:\n",
    "      u = docx.oxml.shared.OxmlElement('w:u')\n",
    "      u.set(docx.oxml.shared.qn('w:val'), 'none')\n",
    "      rPr.append(u)\n",
    "\n",
    "    # Join all the xml elements together add add the required text to the w:r element\n",
    "    new_run.append(rPr)\n",
    "    new_run.text = text\n",
    "    hyperlink.append(new_run)\n",
    "\n",
    "    paragraph._p.append(hyperlink)\n",
    "\n",
    "    return hyperlink"
   ]
  },
  {
   "cell_type": "code",
   "execution_count": 35,
   "metadata": {},
   "outputs": [
    {
     "data": {
      "text/plain": [
       "0       6.953333\n",
       "1       7.766667\n",
       "2       8.673333\n",
       "3      21.960000\n",
       "4       6.380000\n",
       "         ...    \n",
       "395     6.460000\n",
       "396     7.093333\n",
       "397    48.326667\n",
       "398    13.300000\n",
       "399     5.966667\n",
       "Name: Number_of_Paragraphs, Length: 400, dtype: float64"
      ]
     },
     "execution_count": 35,
     "metadata": {},
     "output_type": "execute_result"
    }
   ],
   "source": [
    "path = r\"C:\\Users\\MoRevolution\\Desktop\\College\\P&R\\Research_LowSES\\Data Collection\\Data Set\\Filtered and SQL\\Filtered MDF.csv\"\n",
    "df = pd.read_csv(path)\n",
    "\n",
    "df = df.sample(frac=1).reset_index(drop=True)\n",
    "df[\"Number_of_Paragraphs\"]"
   ]
  },
  {
   "cell_type": "code",
   "execution_count": 68,
   "metadata": {},
   "outputs": [],
   "source": [
    "\"\"\"\n",
    "Note: Remember to rerun this before every rerun of the cell below. This because the document object needs to be renewed for every time this is done. \n",
    "I will definitely make this a function once I finalize everything else. \n",
    "\"\"\"\n",
    "\n",
    "#create document files for each subreddit in \n",
    "docs = []\n",
    "    \n",
    "[docs.append(Document()) for i in range(NUMBER_OF_PEOPLE)] \n",
    "\n",
    "#create dataframe for each person on the team\n",
    "dfs = []\n",
    "\n",
    "#randomize indexes to adjust for the length of =\n",
    "\n",
    "index_num = [x for x in range(0, df.shape[0]+1,df.shape[0]//NUMBER_OF_PEOPLE)]\n",
    "\n",
    "for i in range(0, len(index_num)-1, 1): #could be improved\n",
    "    dfs.append(df.iloc[index_num[i]:index_num[i+1]])\n"
   ]
  },
  {
   "cell_type": "code",
   "execution_count": 72,
   "metadata": {},
   "outputs": [],
   "source": [
    "count = 0 \n",
    "for i in range(len(dfs)): \n",
    "\n",
    "    for index in range(len(dfs[i])): \n",
    "        # first line of each narrative which contains the link to the submission and the subreddit\n",
    "        firstLine = docs[count].add_paragraph(\"Post Url: \")\n",
    "        add_hyperlink(firstLine, dfs[i].iloc[index]['url'], 'Link to Post', '00a7ff', False) ##doesn't work at the moment\n",
    "        firstLine.add_run(', Subreddit: r/'+ dfs[i].iloc[index]['subreddit'])\n",
    "\n",
    "        #paragraph and format\n",
    "        para = docs[count].add_paragraph(dfs[i].iloc[index]['selftext'])\n",
    "        para.paragraph_format.first_line_indent = Inches(0.5)\n",
    "        para.paragraph_format.right_indent = Inches(0.5)\n",
    "        para.keep_together = True\n",
    "        docs[count].add_page_break() \n",
    "\n",
    "    docs[count].save(\"Person_\" + str(count)+ \".docx\")\n",
    "    count += 1"
   ]
  },
  {
   "cell_type": "code",
   "execution_count": null,
   "metadata": {},
   "outputs": [],
   "source": [
    "for doc in docs: \n",
    "    builder = aw.DocumentBuilder(doc)\n",
    "    count = 0\n",
    "    font = builder.font\n",
    "    font.size = 12\n",
    "    for frame in dfs:\n",
    "        for index in range(len(frame)):  \n",
    "            builder.insert_hyperlink(\"Link\", df.loc[i,'url'], False)\n",
    "            builder.write(\" ,Subreddit: \" + df.loc[i, 'subreddit'])\n",
    "            builder.writeln(\"\")\n",
    "\n",
    "            #setting paragraph formatting\n",
    "            paragraphFormat = builder.paragraph_format\n",
    "            paragraphFormat.left_indent = 8\n",
    "            paragraphFormat.first_line_indent = 8\n",
    "            paragraphFormat.alignment = aw.ParagraphAlignment.JUSTIFY\n",
    "            paragraphFormat.keep_together = True\n",
    "            builder.writeln(df.loc[i, 'selftext'])\n",
    "\n",
    "\n",
    "    doc.save(\"Person_\" + str(count)+ \".docx\")\n",
    "    count += count\n"
   ]
  }
 ],
 "metadata": {
  "kernelspec": {
   "display_name": "Python 3.10.5 64-bit",
   "language": "python",
   "name": "python3"
  },
  "language_info": {
   "codemirror_mode": {
    "name": "ipython",
    "version": 3
   },
   "file_extension": ".py",
   "mimetype": "text/x-python",
   "name": "python",
   "nbconvert_exporter": "python",
   "pygments_lexer": "ipython3",
   "version": "3.10.5"
  },
  "orig_nbformat": 4,
  "vscode": {
   "interpreter": {
    "hash": "26de051ba29f2982a8de78e945f0abaf191376122a1563185a90213a26c5da77"
   }
  }
 },
 "nbformat": 4,
 "nbformat_minor": 2
}
