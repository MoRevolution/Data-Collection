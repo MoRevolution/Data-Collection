{
 "cells": [
  {
   "cell_type": "code",
   "execution_count": null,
   "id": "52d447f5",
   "metadata": {},
   "outputs": [],
   "source": [
    "#pip install psaw       // use if you havent installed already"
   ]
  },
  {
   "cell_type": "code",
   "execution_count": null,
   "id": "8ada6ef4",
   "metadata": {},
   "outputs": [],
   "source": [
    "from psaw import PushshiftAPI\n",
    "api = PushshiftAPI()"
   ]
  },
  {
   "cell_type": "markdown",
   "id": "eb0c37e3",
   "metadata": {},
   "source": [
    "- (No) find a way to \n",
    "- input data as a txt or xml file containing multiple urls of relevant pages \n",
    "- Learn if it is possible to compartmentalize the body of the based on its location in the thread"
   ]
  },
  {
   "cell_type": "code",
   "execution_count": null,
   "id": "a9144f44",
   "metadata": {},
   "outputs": [],
   "source": [
    "#Input url and use regex patterns to separate the subreddit and user id \n",
    "url = input('Enter url:')\n",
    "\n",
    "import re \n",
    "sub_match = re.findall(r'/r/\\.?([ \\d\\w.]+)', url)\n",
    "post_id_match = re.findall(r'/comments/\\.?([ \\d\\w.]+)', url)\n",
    "# consider using the title as the name for the output csv file\n",
    "subreddit = sub_match[0]\n",
    "post_id = post_id_match[0]\n",
    "\n",
    "print(\"\\nFetching comments\")"
   ]
  },
  {
   "cell_type": "code",
   "execution_count": null,
   "id": "9a604397",
   "metadata": {},
   "outputs": [],
   "source": [
    "import warnings\n",
    "warnings.filterwarnings(\"ignore\")\n",
    "\n",
    "gen = api.search_comments(subreddit = subreddit, link_id = post_id)\n",
    "\n",
    "\n",
    "#max_response_cache = 1000\n",
    "cache = [] # list of comments\n",
    "\n",
    "for comment in gen: \n",
    "    cache.append(comment)\n",
    "    \n",
    "# Use the statements below if reddit post has too many comments(recommended for r/askReddit)\n",
    "\n",
    "#     if len(cache) >= max_response_cache: \n",
    "#         break"
   ]
  },
  {
   "cell_type": "code",
   "execution_count": null,
   "id": "971bf58d",
   "metadata": {
    "collapsed": true
   },
   "outputs": [],
   "source": [
    "import pandas as pd\n",
    "# Set display\n",
    "pd.set_option('display.max_rows', None)\n",
    "pd.set_option('display.max_colwidth', None)\n",
    "\n",
    "\n",
    "df = pd.DataFrame([thing.d_ for thing in cache])\n",
    "df"
   ]
  },
  {
   "cell_type": "code",
   "execution_count": null,
   "id": "3e72aa80",
   "metadata": {},
   "outputs": [],
   "source": [
    "df_comments = df[['author', 'body']]\n",
    "print('\\nTotal comments fetched:', len(df_comments['body']))"
   ]
  },
  {
   "cell_type": "code",
   "execution_count": null,
   "id": "aaa193c4",
   "metadata": {
    "collapsed": true
   },
   "outputs": [],
   "source": [
    "import math\n",
    "PAR_LENGTH = 150 # in number of words\n",
    "FILTER_REQ = 0.7 # evaluation value for number of paragraphs\n",
    "\n",
    "df_comments[\"Number of Paragraphs\"] = df_comments[\"body\"].apply(lambda n: len(n.split())/PAR_LENGTH) \n",
    "df_comments[:20]"
   ]
  },
  {
   "cell_type": "code",
   "execution_count": null,
   "id": "a04a35c0",
   "metadata": {},
   "outputs": [],
   "source": [
    "#filtered data frame with many \n",
    "df_comments_filtered = df_comments[df_comments[\"Number of Paragraphs\"] >= FILTER_REQ]\n",
    "df_comments_filtered = df_comments_filtered.iloc[:,1:]\n",
    "df_comments_filtered "
   ]
  },
  {
   "cell_type": "code",
   "execution_count": null,
   "id": "efae5794",
   "metadata": {},
   "outputs": [],
   "source": [
    "# from pathlib import Path \n",
    "# filepath = Path('Data Dumb/Reddit/r_'+subreddit+'/out.csv')\n",
    "# filepath.parent.mkdir(parents = True, exist_ok = True)\n",
    "# df_comments_filtered.to_csv(filepath)\n"
   ]
  }
 ],
 "metadata": {
  "kernelspec": {
   "display_name": "Python 3.10.5 64-bit",
   "language": "python",
   "name": "python3"
  },
  "language_info": {
   "codemirror_mode": {
    "name": "ipython",
    "version": 3
   },
   "file_extension": ".py",
   "mimetype": "text/x-python",
   "name": "python",
   "nbconvert_exporter": "python",
   "pygments_lexer": "ipython3",
   "version": "3.10.5"
  },
  "vscode": {
   "interpreter": {
    "hash": "26de051ba29f2982a8de78e945f0abaf191376122a1563185a90213a26c5da77"
   }
  }
 },
 "nbformat": 4,
 "nbformat_minor": 5
}
