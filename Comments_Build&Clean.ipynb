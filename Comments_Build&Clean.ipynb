{
 "cells": [
  {
   "cell_type": "code",
   "execution_count": 2,
   "id": "52d447f5",
   "metadata": {},
   "outputs": [],
   "source": [
    "#pip install psaw       // use if you havent installed already"
   ]
  },
  {
   "cell_type": "code",
   "execution_count": 3,
   "id": "8ada6ef4",
   "metadata": {},
   "outputs": [],
   "source": [
    "from psaw import PushshiftAPI\n",
    "api = PushshiftAPI()"
   ]
  },
  {
   "cell_type": "markdown",
   "id": "eb0c37e3",
   "metadata": {},
   "source": [
    "- (No) find a way to \n",
    "- input data as a txt or xml file containing multiple urls of relevant pages \n",
    "- Learn if it is possible to compartmentalize the body of the based on its location in the thread"
   ]
  },
  {
   "cell_type": "code",
   "execution_count": 4,
   "id": "a9144f44",
   "metadata": {},
   "outputs": [
    {
     "name": "stdout",
     "output_type": "stream",
     "text": [
      "\n",
      "Fetching comments\n"
     ]
    }
   ],
   "source": [
    "#Input url and use regex patterns to separate the subreddit and user id \n",
    "url = input('Enter url:')\n",
    "\n",
    "import re \n",
    "sub_match = re.findall(r'/r/\\.?([ \\d\\w.]+)', url)\n",
    "post_id_match = re.findall(r'/comments/\\.?([ \\d\\w.]+)', url)\n",
    "# consider using the title as the name for the output csv file\n",
    "subreddit = sub_match[0]\n",
    "post_id = post_id_match[0]\n",
    "\n",
    "print(\"\\nFetching comments\")"
   ]
  },
  {
   "cell_type": "code",
   "execution_count": 5,
   "id": "9a604397",
   "metadata": {},
   "outputs": [],
   "source": [
    "import warnings\n",
    "warnings.filterwarnings(\"ignore\")\n",
    "\n",
    "gen = api.search_comments(subreddit = subreddit, link_id = post_id)\n",
    "\n",
    "\n",
    "#max_response_cache = 1000\n",
    "cache = [] # list of comments\n",
    "\n",
    "for comment in gen: \n",
    "    cache.append(comment)\n",
    "    \n",
    "# Use the statements below if reddit post has too many comments(recommended for r/askReddit)\n",
    "\n",
    "#     if len(cache) >= max_response_cache: \n",
    "#         break"
   ]
  },
  {
   "cell_type": "code",
   "execution_count": 7,
   "id": "971bf58d",
   "metadata": {
    "collapsed": true
   },
   "outputs": [
    {
     "data": {
      "text/html": [
       "<div>\n",
       "<style scoped>\n",
       "    .dataframe tbody tr th:only-of-type {\n",
       "        vertical-align: middle;\n",
       "    }\n",
       "\n",
       "    .dataframe tbody tr th {\n",
       "        vertical-align: top;\n",
       "    }\n",
       "\n",
       "    .dataframe thead th {\n",
       "        text-align: right;\n",
       "    }\n",
       "</style>\n",
       "<table border=\"1\" class=\"dataframe\">\n",
       "  <thead>\n",
       "    <tr style=\"text-align: right;\">\n",
       "      <th></th>\n",
       "      <th>all_awardings</th>\n",
       "      <th>associated_award</th>\n",
       "      <th>author</th>\n",
       "      <th>author_flair_background_color</th>\n",
       "      <th>author_flair_css_class</th>\n",
       "      <th>author_flair_richtext</th>\n",
       "      <th>author_flair_template_id</th>\n",
       "      <th>author_flair_text</th>\n",
       "      <th>author_flair_text_color</th>\n",
       "      <th>author_flair_type</th>\n",
       "      <th>...</th>\n",
       "      <th>retrieved_on</th>\n",
       "      <th>score</th>\n",
       "      <th>send_replies</th>\n",
       "      <th>stickied</th>\n",
       "      <th>subreddit</th>\n",
       "      <th>subreddit_id</th>\n",
       "      <th>top_awarded_type</th>\n",
       "      <th>total_awards_received</th>\n",
       "      <th>treatment_tags</th>\n",
       "      <th>created</th>\n",
       "    </tr>\n",
       "  </thead>\n",
       "  <tbody>\n",
       "    <tr>\n",
       "      <th>0</th>\n",
       "      <td>[]</td>\n",
       "      <td>None</td>\n",
       "      <td>veanell</td>\n",
       "      <td>None</td>\n",
       "      <td>None</td>\n",
       "      <td>[]</td>\n",
       "      <td>13c640fc-f5ff-11e2-ae8e-12313b0eb082</td>\n",
       "      <td>None</td>\n",
       "      <td>dark</td>\n",
       "      <td>text</td>\n",
       "      <td>...</td>\n",
       "      <td>1627209077</td>\n",
       "      <td>1</td>\n",
       "      <td>True</td>\n",
       "      <td>False</td>\n",
       "      <td>college</td>\n",
       "      <td>t5_2qh3z</td>\n",
       "      <td>None</td>\n",
       "      <td>0</td>\n",
       "      <td>[]</td>\n",
       "      <td>1.627076e+09</td>\n",
       "    </tr>\n",
       "    <tr>\n",
       "      <th>1</th>\n",
       "      <td>[]</td>\n",
       "      <td>None</td>\n",
       "      <td>Flimsy_Confidence_</td>\n",
       "      <td>None</td>\n",
       "      <td>None</td>\n",
       "      <td>[]</td>\n",
       "      <td>None</td>\n",
       "      <td>None</td>\n",
       "      <td>None</td>\n",
       "      <td>text</td>\n",
       "      <td>...</td>\n",
       "      <td>1627154152</td>\n",
       "      <td>1</td>\n",
       "      <td>True</td>\n",
       "      <td>False</td>\n",
       "      <td>college</td>\n",
       "      <td>t5_2qh3z</td>\n",
       "      <td>None</td>\n",
       "      <td>0</td>\n",
       "      <td>[]</td>\n",
       "      <td>1.627011e+09</td>\n",
       "    </tr>\n",
       "    <tr>\n",
       "      <th>2</th>\n",
       "      <td>[]</td>\n",
       "      <td>None</td>\n",
       "      <td>AceyAceyAcey</td>\n",
       "      <td>None</td>\n",
       "      <td>None</td>\n",
       "      <td>[]</td>\n",
       "      <td>None</td>\n",
       "      <td>None</td>\n",
       "      <td>None</td>\n",
       "      <td>text</td>\n",
       "      <td>...</td>\n",
       "      <td>1627153461</td>\n",
       "      <td>2</td>\n",
       "      <td>True</td>\n",
       "      <td>False</td>\n",
       "      <td>college</td>\n",
       "      <td>t5_2qh3z</td>\n",
       "      <td>None</td>\n",
       "      <td>0</td>\n",
       "      <td>[]</td>\n",
       "      <td>1.627011e+09</td>\n",
       "    </tr>\n",
       "  </tbody>\n",
       "</table>\n",
       "<p>3 rows × 37 columns</p>\n",
       "</div>"
      ],
      "text/plain": [
       "  all_awardings associated_award              author  \\\n",
       "0            []             None             veanell   \n",
       "1            []             None  Flimsy_Confidence_   \n",
       "2            []             None        AceyAceyAcey   \n",
       "\n",
       "  author_flair_background_color author_flair_css_class author_flair_richtext  \\\n",
       "0                          None                   None                    []   \n",
       "1                          None                   None                    []   \n",
       "2                          None                   None                    []   \n",
       "\n",
       "               author_flair_template_id author_flair_text  \\\n",
       "0  13c640fc-f5ff-11e2-ae8e-12313b0eb082              None   \n",
       "1                                  None              None   \n",
       "2                                  None              None   \n",
       "\n",
       "  author_flair_text_color author_flair_type  ... retrieved_on  score  \\\n",
       "0                    dark              text  ...   1627209077      1   \n",
       "1                    None              text  ...   1627154152      1   \n",
       "2                    None              text  ...   1627153461      2   \n",
       "\n",
       "   send_replies stickied subreddit subreddit_id top_awarded_type  \\\n",
       "0          True    False   college     t5_2qh3z             None   \n",
       "1          True    False   college     t5_2qh3z             None   \n",
       "2          True    False   college     t5_2qh3z             None   \n",
       "\n",
       "  total_awards_received  treatment_tags       created  \n",
       "0                     0              []  1.627076e+09  \n",
       "1                     0              []  1.627011e+09  \n",
       "2                     0              []  1.627011e+09  \n",
       "\n",
       "[3 rows x 37 columns]"
      ]
     },
     "execution_count": 7,
     "metadata": {},
     "output_type": "execute_result"
    }
   ],
   "source": [
    "import pandas as pd\n",
    "# Set display\n",
    "pd.set_option('display.max_rows', None)\n",
    "pd.set_option('display.max_colwidth', None)\n",
    "\n",
    "\n",
    "df = pd.DataFrame([thing.d_ for thing in cache])\n",
    "df"
   ]
  },
  {
   "cell_type": "code",
   "execution_count": 12,
   "id": "3e72aa80",
   "metadata": {},
   "outputs": [
    {
     "name": "stdout",
     "output_type": "stream",
     "text": [
      "\n",
      "Total comments fetched: 3\n"
     ]
    },
    {
     "data": {
      "text/plain": [
       "Index(['all_awardings', 'associated_award', 'author',\n",
       "       'author_flair_background_color', 'author_flair_css_class',\n",
       "       'author_flair_richtext', 'author_flair_template_id',\n",
       "       'author_flair_text', 'author_flair_text_color', 'author_flair_type',\n",
       "       'author_fullname', 'author_patreon_flair', 'author_premium', 'awarders',\n",
       "       'body', 'collapsed_because_crowd_control', 'collapsed_reason_code',\n",
       "       'comment_type', 'created_utc', 'gildings', 'id', 'is_submitter',\n",
       "       'link_id', 'locked', 'no_follow', 'parent_id', 'permalink',\n",
       "       'retrieved_on', 'score', 'send_replies', 'stickied', 'subreddit',\n",
       "       'subreddit_id', 'top_awarded_type', 'total_awards_received',\n",
       "       'treatment_tags', 'created'],\n",
       "      dtype='object')"
      ]
     },
     "execution_count": 12,
     "metadata": {},
     "output_type": "execute_result"
    }
   ],
   "source": [
    "df_comments = df[['author', 'body']]\n",
    "print('\\nTotal comments fetched:', len(df_comments['body']))"
   ]
  },
  {
   "cell_type": "code",
   "execution_count": 17,
   "id": "aaa193c4",
   "metadata": {
    "collapsed": true
   },
   "outputs": [
    {
     "data": {
      "text/html": [
       "<div>\n",
       "<style scoped>\n",
       "    .dataframe tbody tr th:only-of-type {\n",
       "        vertical-align: middle;\n",
       "    }\n",
       "\n",
       "    .dataframe tbody tr th {\n",
       "        vertical-align: top;\n",
       "    }\n",
       "\n",
       "    .dataframe thead th {\n",
       "        text-align: right;\n",
       "    }\n",
       "</style>\n",
       "<table border=\"1\" class=\"dataframe\">\n",
       "  <thead>\n",
       "    <tr style=\"text-align: right;\">\n",
       "      <th></th>\n",
       "      <th>author</th>\n",
       "      <th>body</th>\n",
       "      <th>Number of Paragraphs</th>\n",
       "    </tr>\n",
       "  </thead>\n",
       "  <tbody>\n",
       "    <tr>\n",
       "      <th>0</th>\n",
       "      <td>veanell</td>\n",
       "      <td>It's not Financial Aid's responsibility to reach out to you. Most schools keep this information updated online for students to look up what was granted and what is owned by the student.</td>\n",
       "      <td>0.213333</td>\n",
       "    </tr>\n",
       "    <tr>\n",
       "      <th>1</th>\n",
       "      <td>Flimsy_Confidence_</td>\n",
       "      <td>I did, I have to petition to my universities \"college\" that i'm in, and they said no basically because I have no proof of any medical issue, or death in the family, and thats the only way they will waive fees. seems off. They said \"we are subjected to random auditing and we cannot make exceptions and you are still expected to pay the fee\"</td>\n",
       "      <td>0.433333</td>\n",
       "    </tr>\n",
       "    <tr>\n",
       "      <th>2</th>\n",
       "      <td>AceyAceyAcey</td>\n",
       "      <td>Talk to the head of financial aid, sometimes they can waive things.</td>\n",
       "      <td>0.080000</td>\n",
       "    </tr>\n",
       "  </tbody>\n",
       "</table>\n",
       "</div>"
      ],
      "text/plain": [
       "               author  \\\n",
       "0             veanell   \n",
       "1  Flimsy_Confidence_   \n",
       "2        AceyAceyAcey   \n",
       "\n",
       "                                                                                                                                                                                                                                                                                                                                                   body  \\\n",
       "0                                                                                                                                                             It's not Financial Aid's responsibility to reach out to you. Most schools keep this information updated online for students to look up what was granted and what is owned by the student.   \n",
       "1  I did, I have to petition to my universities \"college\" that i'm in, and they said no basically because I have no proof of any medical issue, or death in the family, and thats the only way they will waive fees. seems off. They said \"we are subjected to random auditing and we cannot make exceptions and you are still expected to pay the fee\"   \n",
       "2                                                                                                                                                                                                                                                                                   Talk to the head of financial aid, sometimes they can waive things.   \n",
       "\n",
       "   Number of Paragraphs  \n",
       "0              0.213333  \n",
       "1              0.433333  \n",
       "2              0.080000  "
      ]
     },
     "execution_count": 17,
     "metadata": {},
     "output_type": "execute_result"
    }
   ],
   "source": [
    "import math\n",
    "PAR_LENGTH = 150 # in number of words\n",
    "FILTER_REQ = 0.7 # evaluation value for number of paragraphs\n",
    "\n",
    "df_comments[\"Number of Paragraphs\"] = df_comments['body'].apply(lambda n: len(n.split())/PAR_LENGTH) \n",
    "df_comments[:20]"
   ]
  },
  {
   "cell_type": "code",
   "execution_count": null,
   "id": "a04a35c0",
   "metadata": {},
   "outputs": [],
   "source": [
    "#filtered data frame with many \n",
    "df_comments_filtered = df_comments[df_comments[\"Number of Paragraphs\"] >= FILTER_REQ]\n",
    "df_comments_filtered = df_comments_filtered.iloc[:,1:]\n",
    "df_comments_filtered "
   ]
  },
  {
   "cell_type": "code",
   "execution_count": null,
   "id": "efae5794",
   "metadata": {},
   "outputs": [],
   "source": [
    "# from pathlib import Path \n",
    "# filepath = Path('Data Dumb/Reddit/r_'+subreddit+'/out.csv')\n",
    "# filepath.parent.mkdir(parents = True, exist_ok = True)\n",
    "# df_comments_filtered.to_csv(filepath)\n"
   ]
  }
 ],
 "metadata": {
  "kernelspec": {
   "display_name": "Python 3.10.5 64-bit",
   "language": "python",
   "name": "python3"
  },
  "language_info": {
   "codemirror_mode": {
    "name": "ipython",
    "version": 3
   },
   "file_extension": ".py",
   "mimetype": "text/x-python",
   "name": "python",
   "nbconvert_exporter": "python",
   "pygments_lexer": "ipython3",
   "version": "3.10.5"
  },
  "vscode": {
   "interpreter": {
    "hash": "26de051ba29f2982a8de78e945f0abaf191376122a1563185a90213a26c5da77"
   }
  }
 },
 "nbformat": 4,
 "nbformat_minor": 5
}
